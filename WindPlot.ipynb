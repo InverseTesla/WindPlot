{
 "cells": [
  {
   "cell_type": "code",
   "execution_count": 20,
   "metadata": {},
   "outputs": [],
   "source": [
    "from tkinter.filedialog import askopenfilename\n",
    "from tkinter import *\n",
    "import matplotlib\n",
    "matplotlib.use('tkAgg')\n",
    "import pandas as pd\n",
    "import matplotlib.pyplot as plt \n",
    "from matplotlib.backends.backend_tkagg import FigureCanvasTkAgg\n",
    "from matplotlib.figure import Figure\n",
    "import numpy as py "
   ]
  },
  {
   "cell_type": "code",
   "execution_count": 30,
   "metadata": {},
   "outputs": [
    {
     "name": "stderr",
     "output_type": "stream",
     "text": [
      "C:\\Users\\Wesley\\AppData\\Local\\Temp\\ipykernel_16896\\795028329.py:29: DtypeWarning: Columns (0) have mixed types. Specify dtype option on import or set low_memory=False.\n",
      "  dados = pd.read_csv(askopenfilename(), sep='|',decimal=',')\n",
      "Exception in Tkinter callback\n",
      "Traceback (most recent call last):\n",
      "  File \"d:\\Arquivos de programas\\Python\\Python310\\lib\\tkinter\\__init__.py\", line 1921, in __call__\n",
      "    return self.func(*args)\n",
      "  File \"C:\\Users\\Wesley\\AppData\\Local\\Temp\\ipykernel_16896\\795028329.py\", line 40, in procuradado\n",
      "    df.plot(df[2], df[6]) #label= 'Anemômetro Superior', figsize=(20,5),ylabel='Vento (m/s)', xlabel='Dias')\n",
      "TypeError: 'AxesSubplot' object is not subscriptable\n"
     ]
    },
    {
     "ename": "KeyboardInterrupt",
     "evalue": "",
     "output_type": "error",
     "traceback": [
      "\u001b[1;31m---------------------------------------------------------------------------\u001b[0m",
      "\u001b[1;31mKeyboardInterrupt\u001b[0m                         Traceback (most recent call last)",
      "\u001b[1;32md:\\Documentos\\Python\\WindPlot.ipynb Cell 2\u001b[0m in \u001b[0;36m5\n\u001b[0;32m     <a href='vscode-notebook-cell:/d%3A/Documentos/Python/WindPlot.ipynb#W1sZmlsZQ%3D%3D?line=47'>48</a>\u001b[0m app(root)\n\u001b[0;32m     <a href='vscode-notebook-cell:/d%3A/Documentos/Python/WindPlot.ipynb#W1sZmlsZQ%3D%3D?line=48'>49</a>\u001b[0m root\u001b[39m.\u001b[39mtitle(\u001b[39m'\u001b[39m\u001b[39mWindPlot\u001b[39m\u001b[39m'\u001b[39m)\n\u001b[1;32m---> <a href='vscode-notebook-cell:/d%3A/Documentos/Python/WindPlot.ipynb#W1sZmlsZQ%3D%3D?line=49'>50</a>\u001b[0m root\u001b[39m.\u001b[39;49mmainloop()\n",
      "File \u001b[1;32md:\\Arquivos de programas\\Python\\Python310\\lib\\tkinter\\__init__.py:1458\u001b[0m, in \u001b[0;36mMisc.mainloop\u001b[1;34m(self, n)\u001b[0m\n\u001b[0;32m   1456\u001b[0m \u001b[39mdef\u001b[39;00m \u001b[39mmainloop\u001b[39m(\u001b[39mself\u001b[39m, n\u001b[39m=\u001b[39m\u001b[39m0\u001b[39m):\n\u001b[0;32m   1457\u001b[0m     \u001b[39m\"\"\"Call the mainloop of Tk.\"\"\"\u001b[39;00m\n\u001b[1;32m-> 1458\u001b[0m     \u001b[39mself\u001b[39;49m\u001b[39m.\u001b[39;49mtk\u001b[39m.\u001b[39;49mmainloop(n)\n",
      "\u001b[1;31mKeyboardInterrupt\u001b[0m: "
     ]
    }
   ],
   "source": [
    "#define a classe para poder criar objetos\n",
    "class app:\n",
    "    #define o container master\n",
    "    def __init__(self, master=None):\n",
    "        self.titulo = Frame(master)\n",
    "        self.titulo.pack()\n",
    "        #mensagem de topo do app\n",
    "        self.msg = Label(self.titulo, text = 'WindPlot 1.0', font = 'bold')\n",
    "        self.msg.pack()\n",
    "        #cria o container que abriga a mensagem e o botão de seleção de arquivo\n",
    "        self.entrada=Frame(master)\n",
    "        self.entrada.pack()\n",
    "        self.buscar=Label(self.entrada, text='Selecione o arquivo de dados')\n",
    "        self.buscar.pack()\n",
    "        self.button=Button(self.entrada)\n",
    "        self.button[\"text\"]='Buscar'\n",
    "        self.button['width']=30\n",
    "        self.button['command'] = self.procuradado\n",
    "        self.button.pack(side=BOTTOM)\n",
    "        \n",
    "        #self.plotar=Button(self.entrada)\n",
    "        #self.plotar['text'] = 'Gerar Gráficos'\n",
    "        #self.plotar['width']=20\n",
    "        #self.plotar['command'] = self.geragraph\n",
    "        #self.plotar.pack(side=BOTTOM)\n",
    "\n",
    "    #método para abrir e ler o arquivo de dados\n",
    "    def procuradado(self):\n",
    "        dados = pd.read_csv(askopenfilename(), sep='|',decimal=',')\n",
    "        dados.replace (',','.')\n",
    "        df=dados.replace(-99, '-')\n",
    "\n",
    "        #cria uma figura e adiciona 'df' a ela\n",
    "        figura = plt.Figure(figsize=(5,20), dpi=100)\n",
    "        df = figura.add_subplot(111)\n",
    "        \n",
    "        #associa a figura à tela\n",
    "        canva = FigureCanvasTkAgg(figura,root)\n",
    "        canva.get_tk_widget().grid(row=0, column=0)\n",
    "        \n",
    "        #plot dos dados\n",
    "        df.iloc[0:2160].plot(y='CH07', label= 'Anemômetro Superior', figsize=(20,5),ylabel='Vento (m/s)', xlabel='Dias')\n",
    "        df.iloc[0:2160].plot(y='CH11', label ='Wind Vane Superior', figsize=(20,5), ylabel=('Direção de vento (Graus)'), xlabel=('Dias'))\n",
    "        #df.iloc[0:2160].plot(y=['CH11','CH17'], label = ['Wind Vane Superior','Wind Vane Inferior'], figsize=(20,5), ylabel=('Direção de vento (Graus)'), xlabel=('Dias'))\n",
    "        df.iloc[0:2160].plot(y='CH17', label = 'Wind Vane Inferior', figsize=(20,5), ylabel=('Direção de vento (Graus)'), xlabel=('Dias'))\n",
    "        df.iloc[0:2160].plot(y='CH05', label = 'Termômetro', figsize=(20,5), ylabel=('Temperatura (Graus Celsius)'), xlabel=('Dias'))\n",
    "        plt.show() \n",
    "\n",
    "root=Tk()\n",
    "app(root)\n",
    "root.title('WindPlot')\n",
    "root.mainloop()"
   ]
  }
 ],
 "metadata": {
  "kernelspec": {
   "display_name": "Python 3",
   "language": "python",
   "name": "python3"
  },
  "language_info": {
   "codemirror_mode": {
    "name": "ipython",
    "version": 3
   },
   "file_extension": ".py",
   "mimetype": "text/x-python",
   "name": "python",
   "nbconvert_exporter": "python",
   "pygments_lexer": "ipython3",
   "version": "3.10.7"
  },
  "orig_nbformat": 4
 },
 "nbformat": 4,
 "nbformat_minor": 2
}
